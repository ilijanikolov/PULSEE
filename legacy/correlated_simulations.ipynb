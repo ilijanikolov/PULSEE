{
 "cells": [
  {
   "cell_type": "markdown",
   "metadata": {},
   "source": [
    "### Imports, Simulation Setup"
   ]
  },
  {
   "cell_type": "code",
   "execution_count": 7,
   "metadata": {},
   "outputs": [],
   "source": [
    "import numpy as np \n",
    "import pandas as pd\n",
    "from pulsee import simulation as sim, operators as op\n",
    "from legacy import quantum_computing as qc\n",
    "#from pulsee.many_body import tensor_product"
   ]
  },
  {
   "cell_type": "code",
   "execution_count": 2,
   "metadata": {},
   "outputs": [
    {
     "ename": "AttributeError",
     "evalue": "module 'pulsee.operators' has no attribute 'Operator'",
     "output_type": "error",
     "traceback": [
      "\u001B[0;31m---------------------------------------------------------------------------\u001B[0m",
      "\u001B[0;31mAttributeError\u001B[0m                            Traceback (most recent call last)",
      "\u001B[0;32m<ipython-input-2-068461f5b1d9>\u001B[0m in \u001B[0;36m<module>\u001B[0;34m\u001B[0m\n\u001B[1;32m      1\u001B[0m \u001B[0mIz\u001B[0m \u001B[0;34m=\u001B[0m \u001B[0mnp\u001B[0m\u001B[0;34m.\u001B[0m\u001B[0marray\u001B[0m\u001B[0;34m(\u001B[0m\u001B[0;34m[\u001B[0m\u001B[0;34m[\u001B[0m\u001B[0;36m1\u001B[0m\u001B[0;34m/\u001B[0m\u001B[0;36m2\u001B[0m\u001B[0;34m,\u001B[0m \u001B[0;36m0\u001B[0m\u001B[0;34m]\u001B[0m\u001B[0;34m,\u001B[0m \u001B[0;34m[\u001B[0m\u001B[0;36m0\u001B[0m\u001B[0;34m,\u001B[0m\u001B[0;34m-\u001B[0m\u001B[0;36m1\u001B[0m\u001B[0;34m/\u001B[0m\u001B[0;36m2\u001B[0m\u001B[0;34m]\u001B[0m\u001B[0;34m]\u001B[0m\u001B[0;34m)\u001B[0m\u001B[0;34m\u001B[0m\u001B[0;34m\u001B[0m\u001B[0m\n\u001B[0;32m----> 2\u001B[0;31m \u001B[0mIz\u001B[0m \u001B[0;34m=\u001B[0m \u001B[0mop\u001B[0m\u001B[0;34m.\u001B[0m\u001B[0mOperator\u001B[0m\u001B[0;34m(\u001B[0m\u001B[0mIz\u001B[0m\u001B[0;34m)\u001B[0m\u001B[0;34m\u001B[0m\u001B[0;34m\u001B[0m\u001B[0m\n\u001B[0m",
      "\u001B[0;31mAttributeError\u001B[0m: module 'pulsee.operators' has no attribute 'Operator'"
     ]
    }
   ],
   "source": [
    "Iz = np.array([[1/2, 0], [0,-1/2]])\n",
    "Iz = op.Operator(Iz)"
   ]
  },
  {
   "cell_type": "code",
   "execution_count": null,
   "metadata": {},
   "outputs": [],
   "source": [
    "SIM_NAME = \"/test/11uncorrelated_mixed_no_interactions\""
   ]
  },
  {
   "cell_type": "markdown",
   "metadata": {},
   "source": [
    "### Quantum System Setup\n",
    "Spin-$\\frac{1}{2}$ system with $\\gamma/2\\pi = 4.00$ MHz/T (see Candoli thesis §4.1) and $B_0 = 10$ T:"
   ]
  },
  {
   "cell_type": "code",
   "execution_count": null,
   "metadata": {},
   "outputs": [],
   "source": [
    "CORRELATED = True\n",
    "MIXED = True\n",
    "QUANTUM_NUMBERS = [1.5, 0.5] \n",
    "GAMMA_2PIS = [4.00, 0] \n",
    "B_0 = 10\n",
    "# one control qubit (cnotnot) or two control qubits (toffoli)\n",
    "CNOT_GATE = qc.toffoli \n",
    "\n",
    "zeem_par = {'field magnitude' : B_0,\n",
    "                'theta_z' : 0,\n",
    "                'phi_z' : 0}"
   ]
  },
  {
   "cell_type": "markdown",
   "metadata": {},
   "source": [
    "### Pulse\n",
    "Set up single mode pulse of form \n",
    "$$\\mathbf{B}_1(t) = 2 B_1 \\cos(2\\pi \\nu + \\delta)\\cdot \\hat{\\mathbf{n}}(\\theta, \\phi)$$\n",
    "where $\\theta$ and $\\phi$ are the polar and azimuthal angles respectively. $B_1$ in T, $\\nu$ in MHz, $\\delta$, $\\phi$, and $\\theta$ in radians. TODO: $\\nu$ depends on $e^2 q Q $ and $\\eta$? What is $\\eta$? Why?\n",
    "\n",
    "For simplest case apply $\\pi/2$ pulse with $B_1 = B_0 / 100 $, $ \\nu = (\\gamma/2\\pi) \\cdot B_0 $, $\\delta = \\phi =0$, $\\theta=\\pi/2$."
   ]
  },
  {
   "cell_type": "code",
   "execution_count": null,
   "metadata": {},
   "outputs": [],
   "source": [
    "B_1 = B_0 / 100\n",
    "FREQ = GAMMA_2PIS[0] * B_0\n",
    "PHASE = 0\n",
    "POLAR_B = np.pi / 2 \n",
    "AZIMUTHAL_B = 0 \n",
    "PULSE_TIME = 1 / (4 * FREQ)\n",
    "mode = pd.DataFrame([(FREQ, 2 * B_1, PHASE, POLAR_B, AZIMUTHAL_B)],\n",
    "\t\t\t\t\tcolumns=['frequency', 'amplitude', 'phase', 'theta_p', 'phi_p'])"
   ]
  },
  {
   "cell_type": "markdown",
   "metadata": {},
   "source": [
    "### Experiment Settings"
   ]
  },
  {
   "cell_type": "code",
   "execution_count": null,
   "metadata": {},
   "outputs": [],
   "source": [
    "ACQUISITION_TIME = 1000 # in microseconds\n",
    "T2 = 100"
   ]
  },
  {
   "cell_type": "markdown",
   "metadata": {},
   "source": [
    "### Hamiltonians\n",
    "Here we add the desired Hamiltonian interaction terms. Add these to the following dictionary `args` with key as it appears in `nuclear_system_setup` function. The value should be the parameters of the associated Hamiltonian as it appears in `nuclear_system_setup`."
   ]
  },
  {
   "cell_type": "code",
   "execution_count": null,
   "metadata": {},
   "outputs": [],
   "source": [
    "h_dict = {\n",
    "}"
   ]
  },
  {
   "cell_type": "markdown",
   "metadata": {},
   "source": [
    "### Density Matrix Setup \n",
    "If `CORRELATED` start with qubit $\\ket{111}$ so that in the case of \n",
    "Toffoli (CCNOT) the second control qubit leads to negation of last qubit. \n",
    "Before applying CCNOT or CNOTNOT apply Hadamard to first qubit to create \n",
    "superposition. "
   ]
  },
  {
   "cell_type": "code",
   "execution_count": null,
   "metadata": {},
   "outputs": [],
   "source": [
    "args = h_dict.copy()\n",
    "spin_par = []\n",
    "for qn, gam in zip(QUANTUM_NUMBERS, GAMMA_2PIS):\n",
    "    spin_par.append({'quantum number': qn, 'gamma/2pi': gam})\n",
    "\n",
    "args['spin_par'] = spin_par \n",
    "args['zeem_par'] = zeem_par\n",
    "spin, h_unperturbed, _ = sim.nuclear_system_setup(**args)\n",
    "\n",
    "qs = qc.CompositeQubitSpace(3)\n",
    "\n",
    "# Construct the tensor product of the Hadamard gate and 2 identity operators\n",
    "had_id = qc.gate_tensor_product(qc.hadamard, qc.gate_tensor_pow(qc.identity, 2))\n",
    "\n",
    "corr_operator = CNOT_GATE * had_id\n",
    "\n",
    "\n",
    "if CORRELATED and MIXED: \n",
    "    state = op.canonical_density_matrix(h_unperturbed, 1e-4).matrix\n",
    "    print(state)\n",
    "    corr = had_id.matrix @ state @ qc.adjoint(had_id.matrix)\n",
    "\n",
    "    initial_dm_matrix = corr\n",
    "    \n",
    "elif MIXED: \n",
    "    initial_dm_matrix = op.canonical_density_matrix(h_unperturbed, 1e-4).matrix\n",
    "    \n",
    "elif CORRELATED: \n",
    "    # Use state ket |111⟩\n",
    "    q = qs.basis_ket_from_indices([0, 0, 0])\n",
    "\n",
    "    # Create entanglement \n",
    "    corr_state = had_id(q)\n",
    "    initial_dm = corr_state.density_matrix\n",
    "    initial_dm_matrix = initial_dm.matrix\n",
    "\n",
    "initial_dm = op.Operator(initial_dm_matrix)\n",
    "\n",
    "print('H_unperturbed:')\n",
    "print(np.round(h_unperturbed.matrix, 3))\n",
    "print('Initial density matrix:')\n",
    "print(np.round(initial_dm.matrix, 3))"
   ]
  },
  {
   "cell_type": "markdown",
   "metadata": {},
   "source": [
    "### Simulation"
   ]
  },
  {
   "cell_type": "code",
   "execution_count": 15,
   "metadata": {},
   "outputs": [
    {
     "ename": "NameError",
     "evalue": "name 'initial_dm' is not defined",
     "output_type": "error",
     "traceback": [
      "\u001B[0;31m---------------------------------------------------------------------------\u001B[0m",
      "\u001B[0;31mNameError\u001B[0m                                 Traceback (most recent call last)",
      "Cell \u001B[0;32mIn[15], line 1\u001B[0m\n\u001B[0;32m----> 1\u001B[0m evolved_dm \u001B[38;5;241m=\u001B[39m sim\u001B[38;5;241m.\u001B[39mevolve(spin, h_unperturbed, \u001B[43minitial_dm\u001B[49m, \n\u001B[1;32m      2\u001B[0m \t\t\t\t\t\tmode\u001B[38;5;241m=\u001B[39mmode, pulse_time\u001B[38;5;241m=\u001B[39mPULSE_TIME)\n\u001B[1;32m      4\u001B[0m t, fid \u001B[38;5;241m=\u001B[39m sim\u001B[38;5;241m.\u001B[39mFID_signal(spin, h_unperturbed, evolved_dm, \n\u001B[1;32m      5\u001B[0m \t\t\t\t\t\tacquisition_time\u001B[38;5;241m=\u001B[39mACQUISITION_TIME, T2\u001B[38;5;241m=\u001B[39mT2)\n\u001B[1;32m      7\u001B[0m f, ft \u001B[38;5;241m=\u001B[39m sim\u001B[38;5;241m.\u001B[39mfourier_transform_signal(t, fid, \u001B[38;5;241m-\u001B[39m\u001B[38;5;241m1\u001B[39m, \u001B[38;5;241m1\u001B[39m)\n",
      "\u001B[0;31mNameError\u001B[0m: name 'initial_dm' is not defined"
     ]
    }
   ],
   "source": [
    "evolved_dm = sim.evolve(spin, h_unperturbed, initial_dm, \n",
    "\t\t\t\t\t\tmode=mode, pulse_time=PULSE_TIME)\n",
    "\n",
    "t, fid = sim.FID_signal(spin, h_unperturbed, evolved_dm, \n",
    "\t\t\t\t\t\tacquisition_time=ACQUISITION_TIME, T2=T2)\n",
    "\t\t\t\t\t\t\n",
    "f, ft = sim.fourier_transform_signal(t, fid, -1, 1)"
   ]
  },
  {
   "cell_type": "markdown",
   "metadata": {},
   "source": [
    "Write simulation parameters and save plots to a directory. "
   ]
  },
  {
   "cell_type": "code",
   "execution_count": null,
   "metadata": {
    "scrolled": false
   },
   "outputs": [],
   "source": [
    "import os \n",
    "import json \n",
    "import shutil\n",
    "\n",
    "sim_dir = None \n",
    "if SIM_NAME is not None: \n",
    "\tsim_dir = f'./simulation_results/{SIM_NAME}/'\n",
    "else:\n",
    "\ti = 1\n",
    "\twhile os.path.isdir(f'./simulation_results/sim_{i:04d}'):\n",
    "\t\ti += 1\n",
    "\n",
    "\tsim_dir = f'./simulation_results/sim_{i:04d}/'\n",
    "\n",
    "if os.path.isdir(sim_dir):\n",
    "\tshutil.rmtree(sim_dir)\n",
    "\n",
    "os.mkdir(sim_dir)\n",
    "\n",
    "# numpy ndarray can't be json serialized\n",
    "if 'h_tensor_inter' in h_dict.keys(): \n",
    "\th_dict['h_tensor_inter'] = h_dict['h_tensor_inter'].tolist()\n",
    "\n",
    "params = {\n",
    "\t'correlated_state': CORRELATED, \n",
    "\t'mixed': MIXED, \n",
    "\t'quantum_numbers': QUANTUM_NUMBERS, \n",
    "\t'gamma_2pis': GAMMA_2PIS, \n",
    "\t'B_0': B_0,\n",
    "\t'pulse_params': {\n",
    "\t\t'amplitude': 2 * B_1, \n",
    "\t\t'frequency': FREQ, \n",
    "\t\t'phase': PHASE, \n",
    "\t\t'theta_p': POLAR_B, \n",
    "\t\t'phi_p': AZIMUTHAL_B, \n",
    "\t\t'pulse_time': PULSE_TIME\n",
    "\t},\n",
    "\t'acquisition_time': ACQUISITION_TIME, \n",
    "\t't2': T2,\n",
    "\t'hamiltonian_args': h_dict\n",
    "}\n",
    "\n",
    "params_file = open(os.path.join(sim_dir, 'params.json'), 'w')\n",
    "json.dump(params, params_file, indent=4, separators=(',', ': '))\n",
    "params_file.close()\n",
    " \n",
    "np.savetxt(os.path.join(sim_dir, 'initial_dm.csv'),\n",
    "\t\t   initial_dm.matrix)\n",
    "\n",
    "np.savetxt(os.path.join(sim_dir, 'evolved_dm.csv'),\n",
    "\t\t   evolved_dm.matrix)\n",
    "\n",
    "np.savetxt(os.path.join(sim_dir, 't_fid_data.csv'), \n",
    "\t\t   np.transpose(np.array([t, fid])),\n",
    "\t\t   delimiter=',', \n",
    "\t\t   header='t,fid')\n",
    "\t\t   \n",
    "np.savetxt(os.path.join(sim_dir, 'f_ft_data.csv'),\n",
    "\t\t   np.transpose(np.array([f, ft])),\n",
    "\t\t   delimiter=',',\n",
    "\t\t   header='f,ft')\n",
    "\n",
    "psplt.plot_real_part_density_matrix(initial_dm, \n",
    "\t\t\t\t\t\t\t\t  save=True, \n",
    "\t\t\t\t\t\t\t\t  destination=sim_dir,\n",
    "\t\t\t\t\t\t\t\t  name=\"InitialRealPartDensityMatrix\",\n",
    "\t\t\t\t\t\t\t\t  many_spin_indexing=[2, 2])\n",
    "psplt.plot_real_part_density_matrix(evolved_dm,\n",
    "\t\t\t\t\t\t\t\t  save=True, \n",
    "\t\t\t\t\t\t\t\t  destination=sim_dir,\n",
    "\t\t\t\t\t\t\t\t  name=\"EvolvedRealPartDensityMatrix\", \n",
    "\t\t\t\t\t\t\t\t  many_spin_indexing=[2, 2])\n",
    "psplt.plot_real_part_FID_signal(t, fid, save=True, destination=sim_dir)\n",
    "_ = psplt.plot_fourier_transform(f, np.abs(ft) ** 2, save=True, destination=sim_dir)\n"
   ]
  },
  {
   "cell_type": "markdown",
   "metadata": {},
   "source": []
  }
 ],
 "metadata": {
  "kernelspec": {
   "display_name": "Python 3",
   "language": "python",
   "name": "python3"
  },
  "language_info": {
   "codemirror_mode": {
    "name": "ipython",
    "version": 3
   },
   "file_extension": ".py",
   "mimetype": "text/x-python",
   "name": "python",
   "nbconvert_exporter": "python",
   "pygments_lexer": "ipython3",
   "version": "3.8.8"
  },
  "vscode": {
   "interpreter": {
    "hash": "565e6eaeafdc1c625e35cccb1ad055e9f752b1af38a6fa1f2bda6606bd3ed34f"
   }
  }
 },
 "nbformat": 4,
 "nbformat_minor": 2
}
