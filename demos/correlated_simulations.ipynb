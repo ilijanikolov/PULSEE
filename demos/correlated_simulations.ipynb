{
 "cells": [
  {
   "cell_type": "markdown",
   "metadata": {},
   "source": [
    "### Imports, Simulation Setup"
   ]
  },
  {
   "cell_type": "code",
   "execution_count": 1,
   "metadata": {},
   "outputs": [],
   "source": [
    "from qutip import Qobj\n",
    "import qutip as qt\n",
    "import numpy as np \n",
    "import pandas as pd\n",
    "import pulsee.simulation as sim\n",
    "import pulsee.quantum_computing as qc \n",
    "import pulsee.operators as op \n",
    "from pulsee.pulses import Pulses\n",
    "#from pulsee.many_body import tensor_product"
   ]
  },
  {
   "cell_type": "code",
   "execution_count": 2,
   "metadata": {},
   "outputs": [],
   "source": [
    "Iz = np.array([[1/2, 0], [0,-1/2]])\n",
    "#Iz = Qobj(Iz)"
   ]
  },
  {
   "cell_type": "code",
   "execution_count": 3,
   "metadata": {},
   "outputs": [],
   "source": [
    "SIM_NAME = \"/test/11uncorrelated_mixed_no_interactions\""
   ]
  },
  {
   "cell_type": "markdown",
   "metadata": {},
   "source": [
    "### Quantum System Setup\n",
    "Spin-$\\frac{1}{2}$ system with $\\gamma/2\\pi = 4.00$ MHz/T (see Candoli thesis §4.1) and $B_0 = 10$ T:"
   ]
  },
  {
   "cell_type": "code",
   "execution_count": 4,
   "metadata": {},
   "outputs": [],
   "source": [
    "CORRELATED = True\n",
    "MIXED = True\n",
    "QUANTUM_NUMBERS = [1.5, 0.5] \n",
    "GAMMA_2PIS = [4.00, 0] \n",
    "B_0 = 10\n",
    "# one control qubit (cnotnot) or two control qubits (toffoli)\n",
    "CNOT_GATE = qc.toffoli \n",
    "\n",
    "zeem_par = {'field magnitude' : B_0,\n",
    "                'theta_z' : 0,\n",
    "                'phi_z' : 0}"
   ]
  },
  {
   "cell_type": "markdown",
   "metadata": {},
   "source": [
    "### Pulse\n",
    "Set up single mode pulse of form \n",
    "$$\\mathbf{B}_1(t) = 2 B_1 \\cos(2\\pi \\nu + \\delta)\\cdot \\hat{\\mathbf{n}}(\\theta, \\phi)$$\n",
    "where $\\theta$ and $\\phi$ are the polar and azimuthal angles respectively. $B_1$ in T, $\\nu$ in MHz, $\\delta$, $\\phi$, and $\\theta$ in radians. TODO: $\\nu$ depends on $e^2 q Q $ and $\\eta$? What is $\\eta$? Why?\n",
    "\n",
    "For simplest case apply $\\pi/2$ pulse with $B_1 = B_0 / 100 $, $ \\nu = (\\gamma/2\\pi) \\cdot B_0 $, $\\delta = \\phi =0$, $\\theta=\\pi/2$."
   ]
  },
  {
   "cell_type": "code",
   "execution_count": 5,
   "metadata": {},
   "outputs": [],
   "source": [
    "B_1 = B_0 / 100\n",
    "FREQ = GAMMA_2PIS[0] * B_0\n",
    "PHASE = 0\n",
    "POLAR_B = np.pi / 2 \n",
    "AZIMUTHAL_B = 0 \n",
    "PULSE_TIME = 1 / (4 * FREQ)\n",
    "mode = Pulses(frequencies=[FREQ], amplitudes=[2*B_1], phases=[PHASE], theta_p=[POLAR_B], phi_p=[AZIMUTHAL_B], pulse_times=[PULSE_TIME])\n",
    "#mode = pd.DataFrame([(FREQ, 2 * B_1, PHASE, POLAR_B, AZIMUTHAL_B)],\n",
    "#\t\t\t\t\tcolumns=['frequency', 'amplitude', 'phase', 'theta_p', 'phi_p'])"
   ]
  },
  {
   "cell_type": "markdown",
   "metadata": {},
   "source": [
    "### Experiment Settings"
   ]
  },
  {
   "cell_type": "code",
   "execution_count": 6,
   "metadata": {},
   "outputs": [],
   "source": [
    "ACQUISITION_TIME = 1000 # in microseconds\n",
    "T2 = 100"
   ]
  },
  {
   "cell_type": "markdown",
   "metadata": {},
   "source": [
    "### Hamiltonians\n",
    "Here we add the desired Hamiltonian interaction terms. Add these to the following dictionary `args` with key as it appears in `nuclear_system_setup` function. The value should be the parameters of the associated Hamiltonian as it appears in `nuclear_system_setup`."
   ]
  },
  {
   "cell_type": "code",
   "execution_count": 7,
   "metadata": {},
   "outputs": [],
   "source": [
    "h_dict = {\n",
    "}"
   ]
  },
  {
   "cell_type": "markdown",
   "metadata": {},
   "source": [
    "### Density Matrix Setup \n",
    "If `CORRELATED` start with qubit $\\ket{111}$ so that in the case of \n",
    "Toffoli (CCNOT) the second control qubit leads to negation of last qubit. \n",
    "Before applying CCNOT or CNOTNOT apply Hadamard to first qubit to create \n",
    "superposition. "
   ]
  },
  {
   "cell_type": "code",
   "execution_count": 8,
   "metadata": {},
   "outputs": [
    {
     "ename": "TypeError",
     "evalue": "incompatible dimensions [[8], [8]] and [[2, 2, 2], [2, 2, 2]]",
     "output_type": "error",
     "traceback": [
      "\u001b[0;31m---------------------------------------------------------------------------\u001b[0m",
      "\u001b[0;31mTypeError\u001b[0m                                 Traceback (most recent call last)",
      "Cell \u001b[0;32mIn[8], line 23\u001b[0m\n\u001b[1;32m     20\u001b[0m \u001b[38;5;66;03m# Construct the tensor product of the Hadamard gate and 2 identity operators\u001b[39;00m\n\u001b[1;32m     21\u001b[0m had_id \u001b[38;5;241m=\u001b[39m qc\u001b[38;5;241m.\u001b[39mgate_tensor_product(qc\u001b[38;5;241m.\u001b[39mhadamard, qc\u001b[38;5;241m.\u001b[39mgate_tensor_pow(qc\u001b[38;5;241m.\u001b[39midentity, \u001b[38;5;241m2\u001b[39m))\n\u001b[0;32m---> 23\u001b[0m corr_operator \u001b[38;5;241m=\u001b[39m \u001b[43mCNOT_GATE\u001b[49m\u001b[43m \u001b[49m\u001b[38;5;241;43m*\u001b[39;49m\u001b[43m \u001b[49m\u001b[43mhad_id\u001b[49m\n\u001b[1;32m     26\u001b[0m \u001b[38;5;28;01mif\u001b[39;00m CORRELATED \u001b[38;5;129;01mand\u001b[39;00m MIXED: \n\u001b[1;32m     27\u001b[0m     state \u001b[38;5;241m=\u001b[39m op\u001b[38;5;241m.\u001b[39mcanonical_density_matrix(h_unperturbed[\u001b[38;5;241m0\u001b[39m], \u001b[38;5;241m1e-4\u001b[39m)\n",
      "File \u001b[0;32m~/opt/anaconda3/envs/pulsee_env/lib/python3.11/site-packages/qutip/core/qobj.py:434\u001b[0m, in \u001b[0;36mQobj.__mul__\u001b[0;34m(self, other)\u001b[0m\n\u001b[1;32m    427\u001b[0m \u001b[38;5;250m\u001b[39m\u001b[38;5;124;03m\"\"\"\u001b[39;00m\n\u001b[1;32m    428\u001b[0m \u001b[38;5;124;03mIf other is a Qobj, we dispatch to __matmul__. If not, we\u001b[39;00m\n\u001b[1;32m    429\u001b[0m \u001b[38;5;124;03mcheck that other is a valid complex scalar, i.e., we can do\u001b[39;00m\n\u001b[1;32m    430\u001b[0m \u001b[38;5;124;03mcomplex(other). Otherwise, we return NotImplemented.\u001b[39;00m\n\u001b[1;32m    431\u001b[0m \u001b[38;5;124;03m\"\"\"\u001b[39;00m\n\u001b[1;32m    433\u001b[0m \u001b[38;5;28;01mif\u001b[39;00m \u001b[38;5;28misinstance\u001b[39m(other, Qobj):\n\u001b[0;32m--> 434\u001b[0m     \u001b[38;5;28;01mreturn\u001b[39;00m \u001b[38;5;28;43mself\u001b[39;49m\u001b[38;5;241;43m.\u001b[39;49m\u001b[38;5;21;43m__matmul__\u001b[39;49m\u001b[43m(\u001b[49m\u001b[43mother\u001b[49m\u001b[43m)\u001b[49m\n\u001b[1;32m    436\u001b[0m \u001b[38;5;66;03m# We send other to mul instead of complex(other) to be more flexible.\u001b[39;00m\n\u001b[1;32m    437\u001b[0m \u001b[38;5;66;03m# The dispatcher can then decide how to handle other and return\u001b[39;00m\n\u001b[1;32m    438\u001b[0m \u001b[38;5;66;03m# TypeError if it does not know what to do with the type of other.\u001b[39;00m\n\u001b[1;32m    439\u001b[0m \u001b[38;5;28;01mtry\u001b[39;00m:\n",
      "File \u001b[0;32m~/opt/anaconda3/envs/pulsee_env/lib/python3.11/site-packages/qutip/core/qobj.py:471\u001b[0m, in \u001b[0;36mQobj.__matmul__\u001b[0;34m(self, other)\u001b[0m\n\u001b[1;32m    469\u001b[0m     \u001b[38;5;28;01mexcept\u001b[39;00m \u001b[38;5;167;01mTypeError\u001b[39;00m:\n\u001b[1;32m    470\u001b[0m         \u001b[38;5;28;01mreturn\u001b[39;00m \u001b[38;5;28mNotImplemented\u001b[39m\n\u001b[0;32m--> 471\u001b[0m new_dims \u001b[38;5;241m=\u001b[39m \u001b[38;5;28;43mself\u001b[39;49m\u001b[38;5;241;43m.\u001b[39;49m\u001b[43m_dims\u001b[49m\u001b[43m \u001b[49m\u001b[38;5;241;43m@\u001b[39;49m\u001b[43m \u001b[49m\u001b[43mother\u001b[49m\u001b[38;5;241;43m.\u001b[39;49m\u001b[43m_dims\u001b[49m\n\u001b[1;32m    472\u001b[0m \u001b[38;5;28;01mif\u001b[39;00m new_dims\u001b[38;5;241m.\u001b[39mtype \u001b[38;5;241m==\u001b[39m \u001b[38;5;124m'\u001b[39m\u001b[38;5;124mscalar\u001b[39m\u001b[38;5;124m'\u001b[39m:\n\u001b[1;32m    473\u001b[0m     \u001b[38;5;28;01mreturn\u001b[39;00m _data\u001b[38;5;241m.\u001b[39minner(\u001b[38;5;28mself\u001b[39m\u001b[38;5;241m.\u001b[39m_data, other\u001b[38;5;241m.\u001b[39m_data)\n",
      "File \u001b[0;32m~/opt/anaconda3/envs/pulsee_env/lib/python3.11/site-packages/qutip/core/dimensions.py:828\u001b[0m, in \u001b[0;36mDimensions.__matmul__\u001b[0;34m(self, other)\u001b[0m\n\u001b[1;32m    826\u001b[0m \u001b[38;5;28;01mdef\u001b[39;00m \u001b[38;5;21m__matmul__\u001b[39m(\u001b[38;5;28mself\u001b[39m, other):\n\u001b[1;32m    827\u001b[0m     \u001b[38;5;28;01mif\u001b[39;00m \u001b[38;5;28mself\u001b[39m\u001b[38;5;241m.\u001b[39mfrom_ \u001b[38;5;241m!=\u001b[39m other\u001b[38;5;241m.\u001b[39mto_:\n\u001b[0;32m--> 828\u001b[0m         \u001b[38;5;28;01mraise\u001b[39;00m \u001b[38;5;167;01mTypeError\u001b[39;00m(\u001b[38;5;124mf\u001b[39m\u001b[38;5;124m\"\u001b[39m\u001b[38;5;124mincompatible dimensions \u001b[39m\u001b[38;5;132;01m{\u001b[39;00m\u001b[38;5;28mself\u001b[39m\u001b[38;5;132;01m}\u001b[39;00m\u001b[38;5;124m and \u001b[39m\u001b[38;5;132;01m{\u001b[39;00mother\u001b[38;5;132;01m}\u001b[39;00m\u001b[38;5;124m\"\u001b[39m)\n\u001b[1;32m    829\u001b[0m     args \u001b[38;5;241m=\u001b[39m other\u001b[38;5;241m.\u001b[39mfrom_, \u001b[38;5;28mself\u001b[39m\u001b[38;5;241m.\u001b[39mto_\n\u001b[1;32m    830\u001b[0m     \u001b[38;5;28;01mif\u001b[39;00m args \u001b[38;5;129;01min\u001b[39;00m Dimensions\u001b[38;5;241m.\u001b[39m_stored_dims:\n",
      "\u001b[0;31mTypeError\u001b[0m: incompatible dimensions [[8], [8]] and [[2, 2, 2], [2, 2, 2]]"
     ]
    }
   ],
   "source": [
    "args = h_dict.copy()\n",
    "spin_par = []\n",
    "for qn, gam in zip(QUANTUM_NUMBERS, GAMMA_2PIS):\n",
    "    spin_par.append({'quantum number': qn, 'gamma/2pi': gam})\n",
    "\n",
    "args['spin_par'] = spin_par \n",
    "args['zeem_par'] = zeem_par\n",
    "spin, h_unperturbed, _ = sim.nuclear_system_setup(**args)\n",
    "\n",
    "#print(\"spin\")\n",
    "#print(spin)\n",
    "#print(\"h_unperturbed\")\n",
    "#print(h_unperturbed)\n",
    "#print(\"_\")\n",
    "#print(_)\n",
    "\n",
    "\n",
    "qs = qc.CompositeQubitSpace(3)\n",
    "\n",
    "# Construct the tensor product of the Hadamard gate and 2 identity operators\n",
    "#had_id = qc.gate_tensor_product(qc.hadamard, qc.gate_tensor_pow(qc.identity, 2))\n",
    "\n",
    "had_id = qt.tensor(qt.hadamard_transform(), qt.tensor(qt.identity(2), qt.identity(2)))\n",
    "\n",
    "corr_operator = CNOT_GATE * had_id\n",
    "\n",
    "\n",
    "if CORRELATED and MIXED: \n",
    "    state = op.canonical_density_matrix(h_unperturbed[0], 1e-4)\n",
    "    corr = had_id.full() @ state.full() @ had_id.dag().full()\n",
    "\n",
    "    initial_dm_matrix = corr\n",
    "    \n",
    "elif MIXED: \n",
    "    initial_dm_matrix = op.canonical_density_matrix(h_unperturbed[0], 1e-4).full()\n",
    "    \n",
    "elif CORRELATED: \n",
    "    # Use state ket |111⟩\n",
    "    q = qs.basis_ket_from_indices([0, 0, 0])\n",
    "\n",
    "    # Create entanglement \n",
    "    corr_state = had_id(q)\n",
    "    initial_dm = corr_state.density_matrix\n",
    "    initial_dm_matrix = initial_dm.full()\n",
    "\n",
    "initial_dm = Qobj(initial_dm_matrix, dims = state.dims)\n",
    "\n",
    "print('H_unperturbed:')\n",
    "print(np.round(h_unperturbed[0].full(), 3))\n",
    "print('Initial density matrix:')\n",
    "print(np.round(initial_dm.full(), 3))"
   ]
  },
  {
   "cell_type": "markdown",
   "metadata": {},
   "source": [
    "### Simulation"
   ]
  },
  {
   "cell_type": "code",
   "execution_count": null,
   "metadata": {},
   "outputs": [],
   "source": [
    "print(h_unperturbed)\n",
    "print(\"initial_dm \\n\")\n",
    "print(initial_dm)\n",
    "\n",
    "evolved_dm = sim.evolve(spin, h_unperturbed, initial_dm, \n",
    "\t\t\t\t\t\tmode=mode, n_points=1000, order=1)\n",
    "\n",
    "t, fid = sim.FID_signal(spin, h_unperturbed, evolved_dm, \n",
    "\t\t\t\t\t\tacquisition_time=ACQUISITION_TIME, T2=T2)\n",
    "\t\t\t\t\t\t\n",
    "f, ft = sim.fourier_transform_signal(t, fid, -1, 1)"
   ]
  },
  {
   "cell_type": "markdown",
   "metadata": {},
   "source": [
    "Write simulation parameters and save plots to a directory. "
   ]
  },
  {
   "cell_type": "code",
   "execution_count": null,
   "metadata": {},
   "outputs": [],
   "source": [
    "import os \n",
    "import json \n",
    "import shutil\n",
    "\n",
    "# numpy ndarray can't be json serialized\n",
    "if 'h_tensor_inter' in h_dict.keys(): \n",
    "\th_dict['h_tensor_inter'] = h_dict['h_tensor_inter'].tolist()\n",
    "\n",
    "params = {\n",
    "\t'correlated_state': CORRELATED, \n",
    "\t'mixed': MIXED, \n",
    "\t'quantum_numbers': QUANTUM_NUMBERS, \n",
    "\t'gamma_2pis': GAMMA_2PIS, \n",
    "\t'B_0': B_0,\n",
    "\t'pulse_params': {\n",
    "\t\t'amplitude': 2 * B_1, \n",
    "\t\t'frequency': FREQ, \n",
    "\t\t'phase': PHASE, \n",
    "\t\t'theta_p': POLAR_B, \n",
    "\t\t'phi_p': AZIMUTHAL_B, \n",
    "\t\t'pulse_time': PULSE_TIME\n",
    "\t},\n",
    "\t'acquisition_time': ACQUISITION_TIME, \n",
    "\t't2': T2,\n",
    "\t'hamiltonian_args': h_dict\n",
    "}\n",
    "\n",
    "psplt.plot_real_part_density_matrix(initial_dm, \n",
    "\t\t\t\t\t\t\t\t  save=True, \n",
    "\t\t\t\t\t\t\t\t  destination=sim_dir,\n",
    "\t\t\t\t\t\t\t\t  name=\"InitialRealPartDensityMatrix\",\n",
    "\t\t\t\t\t\t\t\t  many_spin_indexing=[2, 2])\n",
    "psplt.plot_real_part_density_matrix(evolved_dm,\n",
    "\t\t\t\t\t\t\t\t  save=True, \n",
    "\t\t\t\t\t\t\t\t  destination=sim_dir,\n",
    "\t\t\t\t\t\t\t\t  name=\"EvolvedRealPartDensityMatrix\", \n",
    "\t\t\t\t\t\t\t\t  many_spin_indexing=[2, 2])\n",
    "psplt.plot_real_part_FID_signal(t, fid, save=True, destination=sim_dir)\n",
    "_ = psplt.plot_fourier_transform(f, np.abs(ft) ** 2, save=True, destination=sim_dir)\n"
   ]
  },
  {
   "cell_type": "markdown",
   "metadata": {},
   "source": []
  }
 ],
 "metadata": {
  "kernelspec": {
   "display_name": "pulsee_env",
   "language": "python",
   "name": "pulsee_env"
  },
  "language_info": {
   "codemirror_mode": {
    "name": "ipython",
    "version": 3
   },
   "file_extension": ".py",
   "mimetype": "text/x-python",
   "name": "python",
   "nbconvert_exporter": "python",
   "pygments_lexer": "ipython3",
   "version": "3.11.9"
  },
  "vscode": {
   "interpreter": {
    "hash": "565e6eaeafdc1c625e35cccb1ad055e9f752b1af38a6fa1f2bda6606bd3ed34f"
   }
  }
 },
 "nbformat": 4,
 "nbformat_minor": 4
}
