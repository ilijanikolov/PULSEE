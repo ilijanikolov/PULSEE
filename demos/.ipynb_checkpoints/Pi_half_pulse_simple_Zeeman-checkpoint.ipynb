{
 "cells": [
  {
   "cell_type": "markdown",
   "id": "d7dfda2c",
   "metadata": {},
   "source": [
    "# PULSEE $\\frac{\\pi}{2}$ - Pulse, a Simple Zeeman Interaction"
   ]
  },
  {
   "cell_type": "markdown",
   "id": "9a3c16c1",
   "metadata": {},
   "source": [
    "#### Jiwoo Seo, Ilija N."
   ]
  },
  {
   "cell_type": "markdown",
   "id": "35c3a9c8",
   "metadata": {},
   "source": [
    "## Imports"
   ]
  },
  {
   "cell_type": "code",
   "execution_count": null,
   "id": "9d7db93c",
   "metadata": {},
   "outputs": [
    {
     "ename": "",
     "evalue": "",
     "output_type": "error",
     "traceback": [
      "\u001b[1;31mFailed to start the Kernel. \n",
      "\u001b[1;31mView Jupyter <a href='command:jupyter.viewOutput'>log</a> for further details."
     ]
    }
   ],
   "source": [
    "import numpy as np \n",
    "import pandas as pd\n",
    "from pulsee import simulation as sim, quantum_computing as qc, operators as op\n",
    "import qutip as qt \n",
    "# import matplotlib.pylab as plt"
   ]
  },
  {
   "cell_type": "markdown",
   "id": "508f6f4f",
   "metadata": {},
   "source": [
    "## Quantum System Setup\n",
    "Spin-$\\frac{1}{2}$ system with $\\gamma/2\\pi = 5.00$ MHz/T (see Candoli thesis §4.1) and $B_0 = 2 \\pi$ T:"
   ]
  },
  {
   "cell_type": "code",
   "execution_count": null,
   "id": "bb7a43e8",
   "metadata": {},
   "outputs": [
    {
     "ename": "",
     "evalue": "",
     "output_type": "error",
     "traceback": [
      "\u001b[1;31mFailed to start the Kernel. \n",
      "\u001b[1;31mView Jupyter <a href='command:jupyter.viewOutput'>log</a> for further details."
     ]
    }
   ],
   "source": [
    "QUANTUM_NUMBERS = [1/2] # spin 1/2\n",
    "GAMMA_2PIS = [5 / (2 * np.pi)] # = gamma / 2pi\n",
    "B0 = 2 * np.pi\n",
    "W0 = GAMMA_2PIS[0] * B0 * 2 * np.pi # Careful with the sign AND DON'T FORGET * 2PI (radial frequency)\n",
    "\n",
    "zeem_par = {'field magnitude' : B0, 'theta_z' : 0, 'phi_z' : 0}"
   ]
  },
  {
   "cell_type": "code",
   "execution_count": null,
   "id": "e669420a",
   "metadata": {},
   "outputs": [
    {
     "ename": "",
     "evalue": "",
     "output_type": "error",
     "traceback": [
      "\u001b[1;31mFailed to start the Kernel. \n",
      "\u001b[1;31mView Jupyter <a href='command:jupyter.viewOutput'>log</a> for further details."
     ]
    }
   ],
   "source": [
    "print('Larmor frequency:', W0/(2*np.pi), 'MHz')"
   ]
  },
  {
   "cell_type": "markdown",
   "id": "e2f53dfb",
   "metadata": {},
   "source": [
    "## Experiment Settings"
   ]
  },
  {
   "cell_type": "code",
   "execution_count": null,
   "id": "63c53a33",
   "metadata": {},
   "outputs": [
    {
     "ename": "",
     "evalue": "",
     "output_type": "error",
     "traceback": [
      "\u001b[1;31mFailed to start the Kernel. \n",
      "\u001b[1;31mView Jupyter <a href='command:jupyter.viewOutput'>log</a> for further details."
     ]
    }
   ],
   "source": [
    "ACQUISITION_TIME = 50 # in microseconds\n",
    "T2 = 10"
   ]
  },
  {
   "cell_type": "markdown",
   "id": "f762041f",
   "metadata": {},
   "source": [
    "## Hamiltonians\n",
    "Here we add the desired Hamiltonian interaction terms. Add these to the following dictionary `args` with key as it appears in `nuclear_system_setup` function. The value should be the parameters of the associated Hamiltonian as it appears in `nuclear_system_setup`."
   ]
  },
  {
   "cell_type": "code",
   "execution_count": null,
   "id": "2de6342f",
   "metadata": {},
   "outputs": [
    {
     "ename": "",
     "evalue": "",
     "output_type": "error",
     "traceback": [
      "\u001b[1;31mFailed to start the Kernel. \n",
      "\u001b[1;31mView Jupyter <a href='command:jupyter.viewOutput'>log</a> for further details."
     ]
    }
   ],
   "source": [
    "h_dict = {\n",
    "}"
   ]
  },
  {
   "cell_type": "markdown",
   "id": "b7ab2a0a",
   "metadata": {},
   "source": [
    "### Run `sim.nuclear_system_setup` after setting up the arguments"
   ]
  },
  {
   "cell_type": "code",
   "execution_count": null,
   "id": "95c91538",
   "metadata": {},
   "outputs": [
    {
     "ename": "",
     "evalue": "",
     "output_type": "error",
     "traceback": [
      "\u001b[1;31mFailed to start the Kernel. \n",
      "\u001b[1;31mView Jupyter <a href='command:jupyter.viewOutput'>log</a> for further details."
     ]
    }
   ],
   "source": [
    "args = h_dict.copy()\n",
    "spin_par = []\n",
    "for qn, gam in zip(QUANTUM_NUMBERS, GAMMA_2PIS):\n",
    "    spin_par.append({'quantum number': qn, 'gamma/2pi': gam})\n",
    "\n",
    "args['spin_par'] = spin_par \n",
    "args['zeem_par'] = zeem_par\n",
    "# Initial state is canocial\n",
    "spin, h_unperturbed, rho_0 = sim.nuclear_system_setup(**args)"
   ]
  },
  {
   "cell_type": "code",
   "execution_count": null,
   "id": "4fba3b2e",
   "metadata": {},
   "outputs": [
    {
     "ename": "",
     "evalue": "",
     "output_type": "error",
     "traceback": [
      "\u001b[1;31mFailed to start the Kernel. \n",
      "\u001b[1;31mView Jupyter <a href='command:jupyter.viewOutput'>log</a> for further details."
     ]
    }
   ],
   "source": [
    "Iz = spin.I['z']\n",
    "Ix = spin.I['x']\n",
    "Iy = spin.I['y']"
   ]
  },
  {
   "cell_type": "code",
   "execution_count": null,
   "id": "ed3f7d74",
   "metadata": {},
   "outputs": [
    {
     "ename": "",
     "evalue": "",
     "output_type": "error",
     "traceback": [
      "\u001b[1;31mFailed to start the Kernel. \n",
      "\u001b[1;31mView Jupyter <a href='command:jupyter.viewOutput'>log</a> for further details."
     ]
    }
   ],
   "source": [
    "f, p = sim.power_absorption_spectrum(spin, h_unperturbed, normalized=True)\n",
    "_ = psplt.plot_power_absorption_spectrum(f, p)"
   ]
  },
  {
   "cell_type": "markdown",
   "id": "f8b71fda",
   "metadata": {},
   "source": [
    "## Pulse\n",
    "Set up single mode pulse of form \n",
    "$$\\mathbf{B}_1(t) = 2 B_1 \\cos(2\\pi \\nu + \\delta)\\cdot \\hat{\\mathbf{n}}(\\theta, \\phi)$$\n",
    "where $\\theta$ and $\\phi$ are the polar and azimuthal angles respectively.\n",
    "\n",
    "For simplest case apply $\\pi/2$ pulse with $B_1 = B_0 / 10 $, $ \\nu = (\\gamma/2\\pi) \\cdot B_0 $, $\\delta = \\phi =0$, $\\theta=\\pi/2$ --> $I_x$ pulse."
   ]
  },
  {
   "cell_type": "code",
   "execution_count": null,
   "id": "8fe0e265",
   "metadata": {},
   "outputs": [
    {
     "ename": "",
     "evalue": "",
     "output_type": "error",
     "traceback": [
      "\u001b[1;31mFailed to start the Kernel. \n",
      "\u001b[1;31mView Jupyter <a href='command:jupyter.viewOutput'>log</a> for further details."
     ]
    }
   ],
   "source": [
    "B1 = B0 / 100\n",
    "PHASE_B1 = np.pi*0\n",
    "POLAR_B1 = np.pi / 2\n",
    "AZIMUTHAL_B1 = 0\n",
    "TIP_ANGLE = np.pi / 2\n",
    "PULSE_TIME = TIP_ANGLE / (2 * np.pi* GAMMA_2PIS[0] * B1) # using gamma/2pi, NOT gamma!\n",
    "mode = pd.DataFrame([(W0, B1, PHASE_B1, POLAR_B1, AZIMUTHAL_B1, PULSE_TIME)],\n",
    "                    columns=['frequency', 'amplitude', 'phase', 'theta_p', 'phi_p', 'pulse_time'])"
   ]
  },
  {
   "cell_type": "code",
   "execution_count": null,
   "id": "4835f10b",
   "metadata": {},
   "outputs": [
    {
     "ename": "",
     "evalue": "",
     "output_type": "error",
     "traceback": [
      "\u001b[1;31mFailed to start the Kernel. \n",
      "\u001b[1;31mView Jupyter <a href='command:jupyter.viewOutput'>log</a> for further details."
     ]
    }
   ],
   "source": [
    "PULSE_TIME"
   ]
  },
  {
   "cell_type": "markdown",
   "id": "0b6930e7",
   "metadata": {},
   "source": [
    "##  Simulation"
   ]
  },
  {
   "cell_type": "code",
   "execution_count": null,
   "id": "bc0a81f8",
   "metadata": {
    "scrolled": true
   },
   "outputs": [
    {
     "ename": "",
     "evalue": "",
     "output_type": "error",
     "traceback": [
      "\u001b[1;31mFailed to start the Kernel. \n",
      "\u001b[1;31mView Jupyter <a href='command:jupyter.viewOutput'>log</a> for further details."
     ]
    }
   ],
   "source": [
    "#Evolve the intial state until a square pi/2 pulse is applied using the magnus solver in the interaction picture\n",
    "evolved_dm = sim.evolve(spin, h_unperturbed, rho_0, solver='magnus', picture='IP',\n",
    "\t\t\t\t\t\tmode=mode, n_points=166, order=1)\n",
    "evolved_dm"
   ]
  },
  {
   "cell_type": "code",
   "execution_count": null,
   "id": "ba4de34c",
   "metadata": {},
   "outputs": [
    {
     "ename": "",
     "evalue": "",
     "output_type": "error",
     "traceback": [
      "\u001b[1;31mFailed to start the Kernel. \n",
      "\u001b[1;31mView Jupyter <a href='command:jupyter.viewOutput'>log</a> for further details."
     ]
    }
   ],
   "source": [
    "RRF_par={'nu_RRF': W0/(2 * np.pi), 'theta_RRF': 0, 'phi_RRF': 0}\n",
    "RRF_par"
   ]
  },
  {
   "cell_type": "code",
   "execution_count": null,
   "id": "ce66eff1",
   "metadata": {
    "scrolled": true
   },
   "outputs": [
    {
     "ename": "",
     "evalue": "",
     "output_type": "error",
     "traceback": [
      "\u001b[1;31mFailed to start the Kernel. \n",
      "\u001b[1;31mView Jupyter <a href='command:jupyter.viewOutput'>log</a> for further details."
     ]
    }
   ],
   "source": [
    "#Evolve the intial state until a square pi/2 pulse is applied using the magnus solver  \n",
    "evolved_dm_magnus = sim.evolve(spin, h_unperturbed, rho_0, solver='magnus', picture='RRF', RRF_par=RRF_par,\n",
    "\t\t\t\t\t\tmode=mode, n_points=30, order=1)\n",
    "evolved_dm_magnus"
   ]
  },
  {
   "cell_type": "code",
   "execution_count": null,
   "id": "0ba36648",
   "metadata": {
    "scrolled": true
   },
   "outputs": [
    {
     "ename": "",
     "evalue": "",
     "output_type": "error",
     "traceback": [
      "\u001b[1;31mFailed to start the Kernel. \n",
      "\u001b[1;31mView Jupyter <a href='command:jupyter.viewOutput'>log</a> for further details."
     ]
    }
   ],
   "source": [
    "evolved_dm_mesolve = sim.evolve(spin, h_unperturbed, rho_0, solver='mesolve',\n",
    "\t\t\t\t\t\tmode=mode, n_points=100)\n",
    "evolved_dm_mesolve"
   ]
  },
  {
   "cell_type": "code",
   "execution_count": null,
   "id": "c3fa7cf8",
   "metadata": {},
   "outputs": [
    {
     "ename": "",
     "evalue": "",
     "output_type": "error",
     "traceback": [
      "\u001b[1;31mFailed to start the Kernel. \n",
      "\u001b[1;31mView Jupyter <a href='command:jupyter.viewOutput'>log</a> for further details."
     ]
    }
   ],
   "source": [
    "sim.apply_rot_pulse(rho_0, np.pi/2, Ix)"
   ]
  },
  {
   "cell_type": "code",
   "execution_count": null,
   "id": "c155bbfd",
   "metadata": {},
   "outputs": [
    {
     "ename": "",
     "evalue": "",
     "output_type": "error",
     "traceback": [
      "\u001b[1;31mFailed to start the Kernel. \n",
      "\u001b[1;31mView Jupyter <a href='command:jupyter.viewOutput'>log</a> for further details."
     ]
    }
   ],
   "source": [
    "print('Intial state')\n",
    "_ = psplt.plot_complex_density_matrix(rho_0)\n",
    "print('Evolved')\n",
    "_ = psplt.plot_complex_density_matrix(evolved_dm)"
   ]
  },
  {
   "cell_type": "markdown",
   "id": "6207e5e1",
   "metadata": {},
   "source": [
    "# Generate FID"
   ]
  },
  {
   "cell_type": "code",
   "execution_count": null,
   "id": "016c1cf2",
   "metadata": {},
   "outputs": [
    {
     "ename": "",
     "evalue": "",
     "output_type": "error",
     "traceback": [
      "\u001b[1;31mFailed to start the Kernel. \n",
      "\u001b[1;31mView Jupyter <a href='command:jupyter.viewOutput'>log</a> for further details."
     ]
    }
   ],
   "source": [
    "t, fid = sim.FID_signal(spin, h_unperturbed, evolved_dm, \n",
    "\t\t\t\t\t\tacquisition_time=ACQUISITION_TIME, T2=T2, n_points=1)\n",
    "\t\t\t\t\t\t"
   ]
  },
  {
   "cell_type": "code",
   "execution_count": null,
   "id": "900f3d3a",
   "metadata": {},
   "outputs": [
    {
     "ename": "",
     "evalue": "",
     "output_type": "error",
     "traceback": [
      "\u001b[1;31mFailed to start the Kernel. \n",
      "\u001b[1;31mView Jupyter <a href='command:jupyter.viewOutput'>log</a> for further details."
     ]
    }
   ],
   "source": [
    "f, ft = sim.fourier_transform_signal(fid, t, padding=2)"
   ]
  },
  {
   "cell_type": "code",
   "execution_count": null,
   "id": "1b46f972",
   "metadata": {
    "scrolled": false
   },
   "outputs": [
    {
     "ename": "",
     "evalue": "",
     "output_type": "error",
     "traceback": [
      "\u001b[1;31mFailed to start the Kernel. \n",
      "\u001b[1;31mView Jupyter <a href='command:jupyter.viewOutput'>log</a> for further details."
     ]
    }
   ],
   "source": [
    "psplt.plot_real_part_FID_signal(t, fid)\n",
    "_ = psplt.plot_fourier_transform(f, ft, square_modulus=True, save=False, xlim=(4, 6))"
   ]
  },
  {
   "cell_type": "code",
   "execution_count": null,
   "id": "dbf9490d",
   "metadata": {},
   "outputs": [
    {
     "ename": "",
     "evalue": "",
     "output_type": "error",
     "traceback": [
      "\u001b[1;31mFailed to start the Kernel. \n",
      "\u001b[1;31mView Jupyter <a href='command:jupyter.viewOutput'>log</a> for further details."
     ]
    }
   ],
   "source": []
  },
  {
   "cell_type": "code",
   "execution_count": null,
   "id": "ecfe0936",
   "metadata": {},
   "outputs": [
    {
     "ename": "",
     "evalue": "",
     "output_type": "error",
     "traceback": [
      "\u001b[1;31mFailed to start the Kernel. \n",
      "\u001b[1;31mView Jupyter <a href='command:jupyter.viewOutput'>log</a> for further details."
     ]
    }
   ],
   "source": []
  }
 ],
 "metadata": {
  "kernelspec": {
   "display_name": "\"Python/Mu (mu_venv-38-20220926-134436)\"",
   "language": "python",
   "name": "mu_venv-38-20220926-134436"
  }
 },
 "nbformat": 4,
 "nbformat_minor": 5
}
